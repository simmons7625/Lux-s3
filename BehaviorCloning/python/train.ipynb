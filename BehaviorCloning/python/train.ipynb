{
 "cells": [
  {
   "cell_type": "code",
   "execution_count": 47,
   "metadata": {},
   "outputs": [],
   "source": [
    "import torch\n",
    "import numpy as np\n",
    "import json\n",
    "import pandas as pd\n",
    "import random"
   ]
  },
  {
   "cell_type": "code",
   "execution_count": 48,
   "metadata": {},
   "outputs": [],
   "source": [
    "data_dir = 'dataset/'"
   ]
  },
  {
   "cell_type": "code",
   "execution_count": 49,
   "metadata": {},
   "outputs": [
    {
     "data": {
      "text/html": [
       "<div>\n",
       "<style scoped>\n",
       "    .dataframe tbody tr th:only-of-type {\n",
       "        vertical-align: middle;\n",
       "    }\n",
       "\n",
       "    .dataframe tbody tr th {\n",
       "        vertical-align: top;\n",
       "    }\n",
       "\n",
       "    .dataframe thead th {\n",
       "        text-align: right;\n",
       "    }\n",
       "</style>\n",
       "<table border=\"1\" class=\"dataframe\">\n",
       "  <thead>\n",
       "    <tr style=\"text-align: right;\">\n",
       "      <th></th>\n",
       "      <th>Id</th>\n",
       "      <th>EpisodeId</th>\n",
       "      <th>Index</th>\n",
       "      <th>Reward</th>\n",
       "      <th>State</th>\n",
       "      <th>SubmissionId</th>\n",
       "      <th>InitialConfidence</th>\n",
       "      <th>InitialScore</th>\n",
       "      <th>UpdatedConfidence</th>\n",
       "      <th>UpdatedScore</th>\n",
       "    </tr>\n",
       "  </thead>\n",
       "  <tbody>\n",
       "    <tr>\n",
       "      <th>0</th>\n",
       "      <td>132759051</td>\n",
       "      <td>58420861</td>\n",
       "      <td>0</td>\n",
       "      <td>1.0</td>\n",
       "      <td>2</td>\n",
       "      <td>41789980</td>\n",
       "      <td>NaN</td>\n",
       "      <td>NaN</td>\n",
       "      <td>200.0</td>\n",
       "      <td>600.0000</td>\n",
       "    </tr>\n",
       "    <tr>\n",
       "      <th>1</th>\n",
       "      <td>132759052</td>\n",
       "      <td>58420861</td>\n",
       "      <td>1</td>\n",
       "      <td>4.0</td>\n",
       "      <td>2</td>\n",
       "      <td>41789980</td>\n",
       "      <td>NaN</td>\n",
       "      <td>NaN</td>\n",
       "      <td>200.0</td>\n",
       "      <td>600.0000</td>\n",
       "    </tr>\n",
       "    <tr>\n",
       "      <th>2</th>\n",
       "      <td>132765118</td>\n",
       "      <td>58423894</td>\n",
       "      <td>1</td>\n",
       "      <td>5.0</td>\n",
       "      <td>2</td>\n",
       "      <td>41789980</td>\n",
       "      <td>200.0</td>\n",
       "      <td>980.923901</td>\n",
       "      <td>200.0</td>\n",
       "      <td>1040.8575</td>\n",
       "    </tr>\n",
       "    <tr>\n",
       "      <th>3</th>\n",
       "      <td>132765797</td>\n",
       "      <td>58424233</td>\n",
       "      <td>0</td>\n",
       "      <td>5.0</td>\n",
       "      <td>2</td>\n",
       "      <td>41789980</td>\n",
       "      <td>200.0</td>\n",
       "      <td>1040.857579</td>\n",
       "      <td>200.0</td>\n",
       "      <td>1088.0250</td>\n",
       "    </tr>\n",
       "    <tr>\n",
       "      <th>4</th>\n",
       "      <td>132760394</td>\n",
       "      <td>58421533</td>\n",
       "      <td>1</td>\n",
       "      <td>5.0</td>\n",
       "      <td>2</td>\n",
       "      <td>41789980</td>\n",
       "      <td>200.0</td>\n",
       "      <td>600.000000</td>\n",
       "      <td>200.0</td>\n",
       "      <td>733.9188</td>\n",
       "    </tr>\n",
       "  </tbody>\n",
       "</table>\n",
       "</div>"
      ],
      "text/plain": [
       "          Id  EpisodeId  Index  Reward  State  SubmissionId  \\\n",
       "0  132759051   58420861      0     1.0      2      41789980   \n",
       "1  132759052   58420861      1     4.0      2      41789980   \n",
       "2  132765118   58423894      1     5.0      2      41789980   \n",
       "3  132765797   58424233      0     5.0      2      41789980   \n",
       "4  132760394   58421533      1     5.0      2      41789980   \n",
       "\n",
       "   InitialConfidence  InitialScore  UpdatedConfidence  UpdatedScore  \n",
       "0                NaN           NaN              200.0      600.0000  \n",
       "1                NaN           NaN              200.0      600.0000  \n",
       "2              200.0    980.923901              200.0     1040.8575  \n",
       "3              200.0   1040.857579              200.0     1088.0250  \n",
       "4              200.0    600.000000              200.0      733.9188  "
      ]
     },
     "execution_count": 49,
     "metadata": {},
     "output_type": "execute_result"
    }
   ],
   "source": [
    "master_df = pd.read_csv(data_dir + 'episodes.csv')\n",
    "master_df.head()"
   ]
  },
  {
   "cell_type": "code",
   "execution_count": 50,
   "metadata": {},
   "outputs": [],
   "source": [
    "def load_episode_json(file_pathes):\n",
    "    file_path = random.choice(file_pathes)\n",
    "    try:\n",
    "        with open(file_path, 'r', encoding='utf-8') as f:\n",
    "            data = json.load(f)\n",
    "        return data\n",
    "    except FileNotFoundError:\n",
    "        print(f\"Error: File {file_path} not found.\")\n",
    "        return None\n"
   ]
  },
  {
   "cell_type": "code",
   "execution_count": 51,
   "metadata": {},
   "outputs": [],
   "source": [
    "# file_path list\n",
    "file_pathes = []\n",
    "for sub_id, df in master_df.groupby(\"SubmissionId\"):\n",
    "    episode_ids = df[\"EpisodeId\"].unique()\n",
    "    for ep_id in episode_ids:\n",
    "        file_path = data_dir + f\"{sub_id}_{ep_id}.json\"\n",
    "        file_pathes.append(file_path)"
   ]
  },
  {
   "cell_type": "markdown",
   "metadata": {},
   "source": [
    "## 学習"
   ]
  },
  {
   "cell_type": "code",
   "execution_count": 46,
   "metadata": {},
   "outputs": [],
   "source": [
    "from model import *"
   ]
  },
  {
   "cell_type": "code",
   "execution_count": null,
   "metadata": {},
   "outputs": [],
   "source": [
    "# 1試合当たりのステップ数\n",
    "NUM_STEPS = 100\n",
    "# バッチサイズ\n",
    "BATCH_SIZE = 64\n",
    "# 学習回数\n",
    "NUM_LEARN = 10000\n",
    "\n",
    "# 損失関数のブレンド割合\n",
    "alpha = 0.5\n",
    "beta = 1-alpha"
   ]
  },
  {
   "cell_type": "code",
   "execution_count": null,
   "metadata": {},
   "outputs": [],
   "source": [
    "imitator = GATActor(input_dim=10)"
   ]
  },
  {
   "cell_type": "code",
   "execution_count": 53,
   "metadata": {},
   "outputs": [
    {
     "data": {
      "text/plain": [
       "dict_keys(['configuration', 'description', 'id', 'info', 'name', 'rewards', 'schema_version', 'specification', 'statuses', 'steps', 'title', 'version'])"
      ]
     },
     "execution_count": 53,
     "metadata": {},
     "output_type": "execute_result"
    }
   ],
   "source": [
    "data = load_episode_json(file_pathes)\n",
    "data.keys()"
   ]
  },
  {
   "cell_type": "code",
   "execution_count": 83,
   "metadata": {},
   "outputs": [
    {
     "name": "stdout",
     "output_type": "stream",
     "text": [
      "obs {\"units\": {\"position\": [[[4, 3], [16, 2], [15, 9], [13, 7], [1, 3], [16, 7], [0, 1], [15, 7], [15, 10], [14, 6], [13, 8], [15, 6], [-1, -1], [-1, -1], [-1, -1], [-1, -1]], [[-1, -1], [19, 10], [-1, -1], [-1, -1], [-1, -1], [-1, -1], [17, 10], [-1, -1], [-1, -1], [-1, -1], [16, 14], [-1, -1], [-1, -1], [-1, -1], [-1, -1], [-1, -1]]], \"energy\": [[109, 256, 23, 271, 94, -5, 95, 9, 27, 134, 190, 319, -1, -1, -1, -1], [-1, 49, -1, -1, -1, -1, 67, -1, -1, -1, 97, -1, -1, -1, -1, -1]]}, \"units_mask\": [[true, true, true, true, true, true, true, true, true, true, true, true, false, false, false, false], [false, true, false, false, false, false, true, false, false, false, true, false, false, false, false, false]], \"sensor_mask\": [[true, true, true, true, true, true, true, true, false, false, false, false, false, false, false, false, false, false, false, false, false, false, false, false], [true, true, true, true, true, true, true, true, false, false, false, false, false, false, false, false, false, false, false, false, false, false, false, false], [true, true, true, true, true, true, true, true, false, false, false, false, false, false, false, false, false, false, false, false, false, false, false, false], [true, true, true, true, true, true, true, true, false, false, false, false, false, false, false, false, false, false, false, false, false, false, false, false], [true, true, true, true, true, true, true, true, false, false, false, false, false, false, false, false, false, false, false, false, false, false, false, false], [true, true, true, true, true, true, true, true, false, false, false, false, false, false, false, false, false, false, false, false, false, false, false, false], [true, true, true, true, true, true, true, true, false, false, false, false, false, false, false, false, false, false, false, false, false, false, false, false], [true, true, true, true, true, true, true, true, false, false, false, false, false, false, false, false, false, false, false, false, false, false, false, false], [true, true, true, true, true, true, true, true, false, false, false, false, false, false, false, false, false, false, false, false, false, false, false, false], [false, false, false, true, true, true, true, true, true, true, true, true, true, false, false, false, false, false, false, false, false, false, false, false], [false, false, false, true, true, true, true, true, true, true, true, true, true, false, false, false, false, false, false, false, false, false, false, false], [false, false, false, true, true, true, true, true, true, true, true, true, true, true, true, false, false, false, false, false, false, false, false, false], [true, true, true, true, true, true, true, true, true, true, true, true, true, true, true, false, false, false, false, false, false, false, false, false], [true, true, true, true, true, true, true, true, true, true, true, true, true, true, true, false, false, false, false, false, false, false, false, false], [true, true, true, true, true, true, true, true, true, true, true, true, true, true, true, false, false, false, false, false, false, false, false, false], [true, true, true, true, true, true, true, true, true, true, true, true, true, true, true, false, false, false, false, false, false, false, false, false], [true, true, true, true, true, true, true, true, true, true, true, true, true, true, true, false, false, false, false, false, false, false, false, false], [true, true, true, true, true, true, true, true, true, true, true, true, true, true, true, false, false, false, false, false, false, false, false, false], [true, true, true, true, true, true, true, true, true, true, true, true, true, true, true, false, false, false, false, false, false, false, false, false], [true, true, true, true, true, true, true, true, true, true, true, true, true, true, true, false, false, false, false, false, false, false, false, false], [true, true, true, true, true, true, true, true, true, true, true, true, false, false, false, false, false, false, false, false, false, false, false, false], [false, false, false, false, false, false, false, false, false, false, false, false, false, false, false, false, false, false, false, false, false, false, false, false], [false, false, false, false, false, false, false, false, false, false, false, false, false, false, false, false, false, false, false, false, false, false, false, false], [false, false, false, false, false, false, false, false, false, false, false, false, false, false, false, false, false, false, false, false, false, false, false, false]], \"map_features\": {\"energy\": [[0, -3, -2, 3, 6, 5, 1, -2, -1, -1, -1, -1, -1, -1, -1, -1, -1, -1, -1, -1, -1, -1, -1, -1], [-2, -4, 1, 6, 6, 2, -2, -2, -1, -1, -1, -1, -1, -1, -1, -1, -1, -1, -1, -1, -1, -1, -1, -1], [-4, -3, 3, 7, 5, 0, -3, -1, -1, -1, -1, -1, -1, -1, -1, -1, -1, -1, -1, -1, -1, -1, -1, -1], [-5, -1, 6, 8, 3, -3, -3, 1, -1, -1, -1, -1, -1, -1, -1, -1, -1, -1, -1, -1, -1, -1, -1, -1], [-6, 0, 7, 8, 1, -5, -3, 4, -1, -1, -1, -1, -1, -1, -1, -1, -1, -1, -1, -1, -1, -1, -1, -1], [-5, 2, 9, 7, -1, -6, -1, 6, -1, -1, -1, -1, -1, -1, -1, -1, -1, -1, -1, -1, -1, -1, -1, -1], [-5, 3, 9, 6, -2, -6, 0, 8, -1, -1, -1, -1, -1, -1, -1, -1, -1, -1, -1, -1, -1, -1, -1, -1], [-5, 3, 9, 6, -3, -6, 0, 8, -1, -1, -1, -1, -1, -1, -1, -1, -1, -1, -1, -1, -1, -1, -1, -1], [-5, 3, 9, 6, -2, -6, -1, 7, -1, -1, -1, -1, -1, -1, -1, -1, -1, -1, -1, -1, -1, -1, -1, -1], [-1, -1, -1, 6, -1, -5, -1, 5, 6, 3, 0, 2, 4, -1, -1, -1, -1, -1, -1, -1, -1, -1, -1, -1], [-1, -1, -1, 6, 1, -2, -1, 2, 3, 2, 2, 5, 8, -1, -1, -1, -1, -1, -1, -1, -1, -1, -1, -1], [-1, -1, -1, 5, 2, 0, 1, 2, 0, -2, -1, 4, 9, 8, 4, -1, -1, -1, -1, -1, -1, -1, -1, -1], [-2, 0, 2, 3, 2, 2, 3, 4, 0, -4, -5, -1, 4, 5, 2, -1, -1, -1, -1, -1, -1, -1, -1, -1], [0, 1, 2, 1, 0, 1, 5, 7, 4, -2, -6, -5, -1, 2, 0, -1, -1, -1, -1, -1, -1, -1, -1, -1], [2, 2, 3, 0, -2, -1, 3, 8, 8, 4, -2, -4, -2, 2, 3, -1, -1, -1, -1, -1, -1, -1, -1, -1], [2, 4, 5, 2, -2, -4, -1, 5, 9, 8, 4, 0, 0, 3, 6, -1, -1, -1, -1, -1, -1, -1, -1, -1], [0, 3, 6, 6, 0, -5, -6, -1, 5, 8, 7, 4, 2, 2, 5, -1, -1, -1, -1, -1, -1, -1, -1, -1], [-3, 0, 6, 8, 5, -1, -6, -6, -1, 3, 5, 3, 1, -1, -1, -1, -1, -1, -1, -1, -1, -1, -1, -1], [-4, -3, 2, 8, 9, 5, -1, -5, -4, -1, 1, 2, 0, -2, -5, -1, -1, -1, -1, -1, -1, -1, -1, -1], [-2, -5, -3, 3, 8, 9, 5, 0, -2, -2, 0, 2, 2, 1, -1, -1, -1, -1, -1, -1, -1, -1, -1, -1], [3, -4, -6, -3, 3, 8, 8, 6, 2, 0, 1, 3, -1, -1, -1, -1, -1, -1, -1, -1, -1, -1, -1, -1], [-1, -1, -1, -1, -1, -1, -1, -1, -1, -1, -1, -1, -1, -1, -1, -1, -1, -1, -1, -1, -1, -1, -1, -1], [-1, -1, -1, -1, -1, -1, -1, -1, -1, -1, -1, -1, -1, -1, -1, -1, -1, -1, -1, -1, -1, -1, -1, -1], [-1, -1, -1, -1, -1, -1, -1, -1, -1, -1, -1, -1, -1, -1, -1, -1, -1, -1, -1, -1, -1, -1, -1, -1]], \"tile_type\": [[0, 0, 0, 2, 2, 0, 0, 0, -1, -1, -1, -1, -1, -1, -1, -1, -1, -1, -1, -1, -1, -1, -1, -1], [0, 0, 0, 0, 2, 0, 0, 0, -1, -1, -1, -1, -1, -1, -1, -1, -1, -1, -1, -1, -1, -1, -1, -1], [2, 0, 0, 1, 0, 0, 2, 0, -1, -1, -1, -1, -1, -1, -1, -1, -1, -1, -1, -1, -1, -1, -1, -1], [1, 1, 1, 1, 1, 0, 0, 0, -1, -1, -1, -1, -1, -1, -1, -1, -1, -1, -1, -1, -1, -1, -1, -1], [1, 1, 1, 1, 1, 0, 0, 0, -1, -1, -1, -1, -1, -1, -1, -1, -1, -1, -1, -1, -1, -1, -1, -1], [0, 1, 1, 1, 0, 0, 0, 0, -1, -1, -1, -1, -1, -1, -1, -1, -1, -1, -1, -1, -1, -1, -1, -1], [0, 1, 1, 0, 0, 0, 0, 0, -1, -1, -1, -1, -1, -1, -1, -1, -1, -1, -1, -1, -1, -1, -1, -1], [0, 0, 0, 0, 0, 0, 2, 2, -1, -1, -1, -1, -1, -1, -1, -1, -1, -1, -1, -1, -1, -1, -1, -1], [0, 0, 0, 0, 0, 0, 0, 0, -1, -1, -1, -1, -1, -1, -1, -1, -1, -1, -1, -1, -1, -1, -1, -1], [-1, -1, -1, 0, 0, 0, 0, 0, 0, 2, 2, 0, 2, -1, -1, -1, -1, -1, -1, -1, -1, -1, -1, -1], [-1, -1, -1, 0, 0, 0, 0, 0, 0, 0, 0, 0, 0, -1, -1, -1, -1, -1, -1, -1, -1, -1, -1, -1], [-1, -1, -1, 0, 0, 0, 0, 0, 0, 0, 0, 0, 0, 0, 2, -1, -1, -1, -1, -1, -1, -1, -1, -1], [0, 0, 1, 0, 0, 0, 0, 0, 0, 0, 0, 0, 0, 0, 0, -1, -1, -1, -1, -1, -1, -1, -1, -1], [0, 0, 0, 0, 0, 0, 0, 0, 0, 0, 0, 0, 0, 0, 2, -1, -1, -1, -1, -1, -1, -1, -1, -1], [0, 0, 0, 0, 0, 0, 1, 2, 0, 0, 0, 0, 0, 0, 2, -1, -1, -1, -1, -1, -1, -1, -1, -1], [0, 0, 0, 0, 0, 1, 1, 1, 0, 0, 0, 0, 0, 0, 0, -1, -1, -1, -1, -1, -1, -1, -1, -1], [2, 2, 0, 2, 0, 1, 1, 0, 1, 2, 0, 0, 0, 0, 0, -1, -1, -1, -1, -1, -1, -1, -1, -1], [0, 0, 0, 2, 2, 0, 0, 1, 1, 1, 0, 0, 0, 0, 0, -1, -1, -1, -1, -1, -1, -1, -1, -1], [0, 0, 0, 0, 0, 0, 0, 1, 1, 0, 0, 0, 0, 0, 0, -1, -1, -1, -1, -1, -1, -1, -1, -1], [0, 0, 0, 0, 0, 0, 2, 0, 0, 0, 0, 0, 0, 0, 0, -1, -1, -1, -1, -1, -1, -1, -1, -1], [0, 0, 0, 0, 0, 0, 2, 2, 0, 0, 0, 0, -1, -1, -1, -1, -1, -1, -1, -1, -1, -1, -1, -1], [-1, -1, -1, -1, -1, -1, -1, -1, -1, -1, -1, -1, -1, -1, -1, -1, -1, -1, -1, -1, -1, -1, -1, -1], [-1, -1, -1, -1, -1, -1, -1, -1, -1, -1, -1, -1, -1, -1, -1, -1, -1, -1, -1, -1, -1, -1, -1, -1], [-1, -1, -1, -1, -1, -1, -1, -1, -1, -1, -1, -1, -1, -1, -1, -1, -1, -1, -1, -1, -1, -1, -1, -1]]}, \"relic_nodes\": [[14, 9], [19, 9], [15, 9], [14, 9], [14, 4], [14, 8]], \"relic_nodes_mask\": [true, true, true, true, true, true], \"team_points\": [0, 0], \"team_wins\": [3, 2], \"steps\": 505, \"match_steps\": 0}\n",
      "player player_0\n",
      "remainingOverageTime 60\n",
      "reward 3\n",
      "step 505\n"
     ]
    }
   ],
   "source": [
    "for key, value in data['steps'][505][0]['observation'].items():\n",
    "    print(key, value)"
   ]
  },
  {
   "cell_type": "code",
   "execution_count": 101,
   "metadata": {},
   "outputs": [
    {
     "data": {
      "text/plain": [
       "[[2, 1, 0],\n",
       " [3, 0, 1],\n",
       " [2, 1, 0],\n",
       " [2, 1, 0],\n",
       " [2, 1, 0],\n",
       " [3, 0, 1],\n",
       " [0, 0, 0],\n",
       " [3, 0, 1],\n",
       " [2, 1, 0],\n",
       " [2, 1, 0],\n",
       " [3, 0, 1],\n",
       " [2, 1, 0],\n",
       " [0, 0, 0],\n",
       " [0, 0, 0],\n",
       " [0, 0, 0],\n",
       " [0, 0, 0]]"
      ]
     },
     "execution_count": 101,
     "metadata": {},
     "output_type": "execute_result"
    }
   ],
   "source": [
    "data['steps'][504][0]['action']"
   ]
  },
  {
   "cell_type": "code",
   "execution_count": null,
   "metadata": {},
   "outputs": [],
   "source": [
    "for _ in range(NUM_LEARN):\n",
    "    for _ in range(BATCH_SIZE):\n",
    "        data = load_episode_json(file_pathes)\n",
    "        env_cfg = data['configuration']['env_cfg']\n",
    "        # imitate winner move\n",
    "        winner = np.argmax(data['rewards'])\n",
    "        ep = random.randint(0, 4)\n",
    "        step = random.randint(1,100)\n",
    "        \n",
    "        step_log = data['steps'][ep * 101 + step][winner]\n",
    "        \n",
    "        obs = step_log['observations']['obs']\n",
    "        sample_actions = step_log['action']\n",
    "        \n",
    "        # unit\n",
    "        units_mask = obs['units_mask']\n",
    "        units_pos = obs['units']['position']\n",
    "        units_energy = obs['units']['energy']\n",
    "        # tile(width, height)\n",
    "        tile_mask = obs['tile_mask']\n",
    "        tile_types = obs['map_features']['type']\n",
    "        tile_energy = obs['map_features']['energy']\n",
    "        relic_nodes = obs['relic_nodes']\n",
    "        relic_nodes_mask = obs['relic_nodes_mask']\n",
    "        visible = obs['sensor_mask']\n",
    "        \n",
    "        # compute action\n",
    "        unit_graph = build_unit_graph(units, units_mask)\n",
    "        tile_graph = build_tile_graph(tiles, units, units_mask)\n",
    "        input_graph = torch.cat([unit_graph, tile_graph])\n",
    "        action_probs, action_value = imitator.forward(input_graph)\n",
    "        \n",
    "        # 模倣学習的クロスエントロピーロス\n",
    "        bc_loss = np.log(action_probs[sample_actions])\n",
    "        # 強化学習的損失関数\n",
    "        current_point_diff = step_log['team_points'][winner] - step_log['team_points'][1-winner]\n",
    "        previous_point_diff = 0 if step == 0 else data['steps'][ep * 101 + step - 1][winner]['team_points'][winner] - data['steps'][ep * 101 + step - 1][winner]['team_points'][1-winner]\n",
    "        reward = current_point_diff - previous_point_diff\n",
    "        gamma = 0.95 ** (NUM_STEPS - step)\n",
    "        rl_loss = np.mean((1 - torch.sigmoid(reward + gamma * action_value))**2)\n",
    "\n",
    "        loss = alpha * bc_loss + beta * rl_loss"
   ]
  }
 ],
 "metadata": {
  "kaggle": {
   "accelerator": "none",
   "dataSources": [
    {
     "databundleVersionId": 10395677,
     "sourceId": 86411,
     "sourceType": "competition"
    },
    {
     "datasetId": 9,
     "sourceId": 10337149,
     "sourceType": "datasetVersion"
    }
   ],
   "dockerImageVersionId": 30822,
   "isGpuEnabled": false,
   "isInternetEnabled": true,
   "language": "python",
   "sourceType": "notebook"
  },
  "kernelspec": {
   "display_name": "Python 3",
   "language": "python",
   "name": "python3"
  },
  "language_info": {
   "codemirror_mode": {
    "name": "ipython",
    "version": 3
   },
   "file_extension": ".py",
   "mimetype": "text/x-python",
   "name": "python",
   "nbconvert_exporter": "python",
   "pygments_lexer": "ipython3",
   "version": "3.11.11"
  }
 },
 "nbformat": 4,
 "nbformat_minor": 4
}
