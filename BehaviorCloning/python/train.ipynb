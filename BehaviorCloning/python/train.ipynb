{
 "cells": [
  {
   "cell_type": "code",
   "execution_count": 17,
   "metadata": {},
   "outputs": [],
   "source": [
    "import torch\n",
    "import numpy as np\n",
    "import json\n",
    "import pandas as pd\n",
    "import random"
   ]
  },
  {
   "cell_type": "code",
   "execution_count": 18,
   "metadata": {},
   "outputs": [],
   "source": [
    "data_dir = 'dataset/'"
   ]
  },
  {
   "cell_type": "code",
   "execution_count": 19,
   "metadata": {},
   "outputs": [
    {
     "data": {
      "text/html": [
       "<div>\n",
       "<style scoped>\n",
       "    .dataframe tbody tr th:only-of-type {\n",
       "        vertical-align: middle;\n",
       "    }\n",
       "\n",
       "    .dataframe tbody tr th {\n",
       "        vertical-align: top;\n",
       "    }\n",
       "\n",
       "    .dataframe thead th {\n",
       "        text-align: right;\n",
       "    }\n",
       "</style>\n",
       "<table border=\"1\" class=\"dataframe\">\n",
       "  <thead>\n",
       "    <tr style=\"text-align: right;\">\n",
       "      <th></th>\n",
       "      <th>Id</th>\n",
       "      <th>EpisodeId</th>\n",
       "      <th>Index</th>\n",
       "      <th>Reward</th>\n",
       "      <th>State</th>\n",
       "      <th>SubmissionId</th>\n",
       "      <th>InitialConfidence</th>\n",
       "      <th>InitialScore</th>\n",
       "      <th>UpdatedConfidence</th>\n",
       "      <th>UpdatedScore</th>\n",
       "    </tr>\n",
       "  </thead>\n",
       "  <tbody>\n",
       "    <tr>\n",
       "      <th>0</th>\n",
       "      <td>133522497</td>\n",
       "      <td>58802584</td>\n",
       "      <td>0</td>\n",
       "      <td>5.0</td>\n",
       "      <td>2</td>\n",
       "      <td>41862933</td>\n",
       "      <td>200.0</td>\n",
       "      <td>600.000000</td>\n",
       "      <td>200.0</td>\n",
       "      <td>701.73895</td>\n",
       "    </tr>\n",
       "    <tr>\n",
       "      <th>1</th>\n",
       "      <td>133523193</td>\n",
       "      <td>58802932</td>\n",
       "      <td>0</td>\n",
       "      <td>5.0</td>\n",
       "      <td>2</td>\n",
       "      <td>41862933</td>\n",
       "      <td>200.0</td>\n",
       "      <td>701.738952</td>\n",
       "      <td>200.0</td>\n",
       "      <td>790.51196</td>\n",
       "    </tr>\n",
       "    <tr>\n",
       "      <th>2</th>\n",
       "      <td>133523896</td>\n",
       "      <td>58803281</td>\n",
       "      <td>0</td>\n",
       "      <td>5.0</td>\n",
       "      <td>2</td>\n",
       "      <td>41862933</td>\n",
       "      <td>200.0</td>\n",
       "      <td>790.511986</td>\n",
       "      <td>200.0</td>\n",
       "      <td>872.51587</td>\n",
       "    </tr>\n",
       "    <tr>\n",
       "      <th>3</th>\n",
       "      <td>133527407</td>\n",
       "      <td>58805040</td>\n",
       "      <td>0</td>\n",
       "      <td>5.0</td>\n",
       "      <td>2</td>\n",
       "      <td>41862933</td>\n",
       "      <td>200.0</td>\n",
       "      <td>1250.139385</td>\n",
       "      <td>200.0</td>\n",
       "      <td>1315.74390</td>\n",
       "    </tr>\n",
       "    <tr>\n",
       "      <th>4</th>\n",
       "      <td>133533045</td>\n",
       "      <td>58807859</td>\n",
       "      <td>0</td>\n",
       "      <td>3.0</td>\n",
       "      <td>2</td>\n",
       "      <td>41862933</td>\n",
       "      <td>200.0</td>\n",
       "      <td>1829.229017</td>\n",
       "      <td>200.0</td>\n",
       "      <td>1941.37630</td>\n",
       "    </tr>\n",
       "  </tbody>\n",
       "</table>\n",
       "</div>"
      ],
      "text/plain": [
       "          Id  EpisodeId  Index  Reward  State  SubmissionId  \\\n",
       "0  133522497   58802584      0     5.0      2      41862933   \n",
       "1  133523193   58802932      0     5.0      2      41862933   \n",
       "2  133523896   58803281      0     5.0      2      41862933   \n",
       "3  133527407   58805040      0     5.0      2      41862933   \n",
       "4  133533045   58807859      0     3.0      2      41862933   \n",
       "\n",
       "   InitialConfidence  InitialScore  UpdatedConfidence  UpdatedScore  \n",
       "0              200.0    600.000000              200.0     701.73895  \n",
       "1              200.0    701.738952              200.0     790.51196  \n",
       "2              200.0    790.511986              200.0     872.51587  \n",
       "3              200.0   1250.139385              200.0    1315.74390  \n",
       "4              200.0   1829.229017              200.0    1941.37630  "
      ]
     },
     "execution_count": 19,
     "metadata": {},
     "output_type": "execute_result"
    }
   ],
   "source": [
    "master_df = pd.read_csv(data_dir + 'episodes.csv')\n",
    "master_df.head()"
   ]
  },
  {
   "cell_type": "code",
   "execution_count": 20,
   "metadata": {},
   "outputs": [],
   "source": [
    "def load_episode_json(file_pathes):\n",
    "    file_path = random.choice(file_pathes)\n",
    "    try:\n",
    "        with open(file_path, 'r', encoding='utf-8') as f:\n",
    "            data = json.load(f)\n",
    "        return data\n",
    "    except FileNotFoundError:\n",
    "        print(f\"Error: File {file_path} not found.\")\n",
    "        return None\n"
   ]
  },
  {
   "cell_type": "code",
   "execution_count": 21,
   "metadata": {},
   "outputs": [],
   "source": [
    "# file_path list\n",
    "file_pathes = []\n",
    "for sub_id, df in master_df.groupby(\"SubmissionId\"):\n",
    "    episode_ids = df[\"EpisodeId\"].unique()\n",
    "    for ep_id in episode_ids:\n",
    "        file_path = data_dir + f\"{sub_id}_{ep_id}.json\"\n",
    "        file_pathes.append(file_path)"
   ]
  },
  {
   "cell_type": "code",
   "execution_count": 45,
   "metadata": {},
   "outputs": [],
   "source": [
    "data = load_episode_json(file_pathes)"
   ]
  },
  {
   "cell_type": "code",
   "execution_count": null,
   "metadata": {},
   "outputs": [],
   "source": [
    "env_cfg = data['configuration']['env_cfg']\n",
    "# imitate winner move\n",
    "winner = np.argmax(data['rewards'])\n",
    "step_log = data['steps'][winner]"
   ]
  },
  {
   "cell_type": "markdown",
   "metadata": {},
   "source": [
    "## 学習"
   ]
  },
  {
   "cell_type": "code",
   "execution_count": 46,
   "metadata": {},
   "outputs": [],
   "source": [
    "from model import *"
   ]
  },
  {
   "cell_type": "code",
   "execution_count": null,
   "metadata": {},
   "outputs": [],
   "source": [
    "# embedding\n",
    "unit_graph = build_unit_graph(units, units_mask, team_points)\n",
    "tile_graph = build_tile_graph(tiles, units, units_mask)"
   ]
  }
 ],
 "metadata": {
  "kaggle": {
   "accelerator": "none",
   "dataSources": [
    {
     "databundleVersionId": 10395677,
     "sourceId": 86411,
     "sourceType": "competition"
    },
    {
     "datasetId": 9,
     "sourceId": 10337149,
     "sourceType": "datasetVersion"
    }
   ],
   "dockerImageVersionId": 30822,
   "isGpuEnabled": false,
   "isInternetEnabled": true,
   "language": "python",
   "sourceType": "notebook"
  },
  "kernelspec": {
   "display_name": "Python 3",
   "language": "python",
   "name": "python3"
  },
  "language_info": {
   "codemirror_mode": {
    "name": "ipython",
    "version": 3
   },
   "file_extension": ".py",
   "mimetype": "text/x-python",
   "name": "python",
   "nbconvert_exporter": "python",
   "pygments_lexer": "ipython3",
   "version": "3.11.11"
  }
 },
 "nbformat": 4,
 "nbformat_minor": 4
}
