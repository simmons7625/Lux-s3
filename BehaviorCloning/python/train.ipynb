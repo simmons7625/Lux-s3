{
 "cells": [
  {
   "cell_type": "code",
   "execution_count": 1,
   "metadata": {
    "_cell_guid": "b1076dfc-b9ad-4769-8c92-a6c4dae69d19",
    "_uuid": "8f2839f25d086af736a60e9eeb907d3b93b6e0e5",
    "execution": {
     "iopub.execute_input": "2024-12-27T02:03:37.858158Z",
     "iopub.status.busy": "2024-12-27T02:03:37.857805Z",
     "iopub.status.idle": "2024-12-27T02:03:38.916955Z",
     "shell.execute_reply": "2024-12-27T02:03:38.915727Z",
     "shell.execute_reply.started": "2024-12-27T02:03:37.858119Z"
    },
    "trusted": true
   },
   "outputs": [
    {
     "ename": "ModuleNotFoundError",
     "evalue": "No module named 'pandas'",
     "output_type": "error",
     "traceback": [
      "\u001b[1;31m---------------------------------------------------------------------------\u001b[0m",
      "\u001b[1;31mModuleNotFoundError\u001b[0m                       Traceback (most recent call last)",
      "Cell \u001b[1;32mIn[1], line 1\u001b[0m\n\u001b[1;32m----> 1\u001b[0m \u001b[38;5;28;01mimport\u001b[39;00m \u001b[38;5;21;01mpandas\u001b[39;00m \u001b[38;5;28;01mas\u001b[39;00m \u001b[38;5;21;01mpd\u001b[39;00m\n\u001b[0;32m      2\u001b[0m \u001b[38;5;28;01mimport\u001b[39;00m \u001b[38;5;21;01mnumpy\u001b[39;00m \u001b[38;5;28;01mas\u001b[39;00m \u001b[38;5;21;01mnp\u001b[39;00m\n\u001b[0;32m      3\u001b[0m \u001b[38;5;28;01mfrom\u001b[39;00m \u001b[38;5;21;01mpathlib\u001b[39;00m \u001b[38;5;28;01mimport\u001b[39;00m Path\n",
      "\u001b[1;31mModuleNotFoundError\u001b[0m: No module named 'pandas'"
     ]
    }
   ],
   "source": [
    "import pandas as pd\n",
    "import numpy as np\n",
    "from pathlib import Path\n",
    "import os\n",
    "import requests\n",
    "import json\n",
    "from tqdm.auto import tqdm\n",
    "import datetime\n",
    "import time\n",
    "import glob\n",
    "import collections"
   ]
  },
  {
   "cell_type": "code",
   "execution_count": null,
   "metadata": {
    "execution": {
     "iopub.execute_input": "2024-12-27T02:03:38.918794Z",
     "iopub.status.busy": "2024-12-27T02:03:38.918234Z",
     "iopub.status.idle": "2024-12-27T02:03:38.924728Z",
     "shell.execute_reply": "2024-12-27T02:03:38.923163Z",
     "shell.execute_reply.started": "2024-12-27T02:03:38.91876Z"
    },
    "trusted": true
   },
   "outputs": [],
   "source": [
    "OUTPUT_DIR = Path(\"./\")\n",
    "META_DIR = Path(\"../input/meta-kaggle/\")\n",
    "BASE_URL = \"https://www.kaggle.com/api/i/competitions.EpisodeService/\"\n",
    "GET_URL = BASE_URL + \"GetEpisodeReplay\"\n",
    "\n",
    "LOWEST_SCORE_THRESH = 2000\n",
    "EPISODE_LIMIT_SIZE = 1000"
   ]
  },
  {
   "cell_type": "code",
   "execution_count": null,
   "metadata": {
    "execution": {
     "iopub.execute_input": "2024-12-27T02:03:38.970857Z",
     "iopub.status.busy": "2024-12-27T02:03:38.970476Z",
     "iopub.status.idle": "2024-12-27T02:03:38.987291Z",
     "shell.execute_reply": "2024-12-27T02:03:38.985978Z",
     "shell.execute_reply.started": "2024-12-27T02:03:38.970821Z"
    },
    "trusted": true
   },
   "outputs": [],
   "source": [
    "COMPETITION_ID = 86411"
   ]
  },
  {
   "cell_type": "markdown",
   "metadata": {},
   "source": [
    "## Extract Top Submission"
   ]
  },
  {
   "cell_type": "code",
   "execution_count": null,
   "metadata": {
    "execution": {
     "iopub.execute_input": "2024-12-27T02:03:38.988922Z",
     "iopub.status.busy": "2024-12-27T02:03:38.988506Z",
     "iopub.status.idle": "2024-12-27T02:03:54.102555Z",
     "shell.execute_reply": "2024-12-27T02:03:54.101515Z",
     "shell.execute_reply.started": "2024-12-27T02:03:38.98887Z"
    },
    "trusted": true
   },
   "outputs": [],
   "source": [
    "%%time\n",
    "\n",
    "episodes_df = pl.scan_csv(META_DIR / \"Episodes.csv\")\n",
    "episodes_df = (\n",
    "    episodes_df\n",
    "    .filter(pl.col('CompetitionId')==COMPETITION_ID)\n",
    "    .with_columns(\n",
    "        pl.col(\"CreateTime\").str.to_datetime(\"%m/%d/%Y %H:%M:%S\", strict=False),\n",
    "        pl.col(\"EndTime\").str.to_datetime(\"%m/%d/%Y %H:%M:%S\", strict=False),\n",
    "    )\n",
    "    .sort(\"Id\")\n",
    "    .collect()\n",
    ")\n",
    "print(f'Episodes.csv: {len(episodes_df)} rows.')"
   ]
  },
  {
   "cell_type": "code",
   "execution_count": null,
   "metadata": {
    "execution": {
     "iopub.execute_input": "2024-12-27T02:03:54.10372Z",
     "iopub.status.busy": "2024-12-27T02:03:54.103461Z",
     "iopub.status.idle": "2024-12-27T02:03:54.120088Z",
     "shell.execute_reply": "2024-12-27T02:03:54.118599Z",
     "shell.execute_reply.started": "2024-12-27T02:03:54.103697Z"
    },
    "trusted": true
   },
   "outputs": [],
   "source": [
    "episodes_df"
   ]
  },
  {
   "cell_type": "code",
   "execution_count": null,
   "metadata": {
    "execution": {
     "iopub.execute_input": "2024-12-27T02:03:54.121499Z",
     "iopub.status.busy": "2024-12-27T02:03:54.12117Z",
     "iopub.status.idle": "2024-12-27T02:05:06.365372Z",
     "shell.execute_reply": "2024-12-27T02:05:06.363292Z",
     "shell.execute_reply.started": "2024-12-27T02:03:54.12147Z"
    },
    "trusted": true
   },
   "outputs": [],
   "source": [
    "%%time\n",
    "\n",
    "agents_df = pl.scan_csv(\n",
    "    META_DIR / \"EpisodeAgents.csv\", \n",
    "    schema_overrides={'Reward':pl.Float32, 'UpdatedConfidence': pl.Float32, 'UpdatedScore': pl.Float32}\n",
    ")\n",
    "\n",
    "agents_df = (\n",
    "    agents_df\n",
    "    .filter(pl.col(\"EpisodeId\").is_in(episodes_df['Id'].to_list()))\n",
    "    .with_columns([\n",
    "        pl.when(pl.col(\"InitialConfidence\") == \"\")\n",
    "        .then(None)\n",
    "        .otherwise(pl.col(\"InitialConfidence\"))\n",
    "        .cast(pl.Float64)\n",
    "        .alias(\"InitialConfidence\"),\n",
    "        \n",
    "        pl.when(pl.col(\"InitialScore\") == \"\")\n",
    "        .then(None)\n",
    "        .otherwise(pl.col(\"InitialScore\"))\n",
    "        .cast(pl.Float64)\n",
    "        .alias(\"InitialScore\")])\n",
    "    .collect()\n",
    ")\n",
    "print(f'EpisodeAgents.csv: {len(agents_df)} rows.')"
   ]
  },
  {
   "cell_type": "code",
   "execution_count": null,
   "metadata": {
    "execution": {
     "iopub.execute_input": "2024-12-27T02:05:06.368069Z",
     "iopub.status.busy": "2024-12-27T02:05:06.367593Z",
     "iopub.status.idle": "2024-12-27T02:05:06.38643Z",
     "shell.execute_reply": "2024-12-27T02:05:06.385085Z",
     "shell.execute_reply.started": "2024-12-27T02:05:06.368025Z"
    },
    "trusted": true
   },
   "outputs": [],
   "source": [
    "agents_df"
   ]
  },
  {
   "cell_type": "code",
   "execution_count": null,
   "metadata": {
    "execution": {
     "iopub.execute_input": "2024-12-27T02:05:06.388397Z",
     "iopub.status.busy": "2024-12-27T02:05:06.387628Z",
     "iopub.status.idle": "2024-12-27T02:05:06.502262Z",
     "shell.execute_reply": "2024-12-27T02:05:06.501101Z",
     "shell.execute_reply.started": "2024-12-27T02:05:06.387929Z"
    },
    "trusted": true
   },
   "outputs": [],
   "source": [
    "\n",
    "target_agents_df = (\n",
    "    agents_df\n",
    "    .sort('EpisodeId', descending=True)\n",
    "    .group_by('SubmissionId')\n",
    "    .head(1)\n",
    "    .filter(pl.col(\"UpdatedScore\")>LOWEST_SCORE_THRESH)\n",
    ")\n",
    "\n",
    "create_time_df = (\n",
    "    agents_df\n",
    "    .sort('EpisodeId', descending=False)\n",
    "    .group_by('SubmissionId')\n",
    "    .head(1)\n",
    "    .join(episodes_df, left_on='EpisodeId', right_on='Id')\n",
    "    .select(['SubmissionId', 'CreateTime'])\n",
    ")\n",
    "\n",
    "num_episodes_df = (\n",
    "    agents_df\n",
    "    .group_by('SubmissionId')\n",
    "    .agg(pl.count().alias('NumEpisodes'))\n",
    ")\n",
    "\n",
    "target_agents_df = (\n",
    "    target_agents_df\n",
    "    .join(num_episodes_df, on='SubmissionId')\n",
    "    .join(create_time_df, on='SubmissionId')\n",
    "    .select(['SubmissionId', 'EpisodeId', 'UpdatedScore', 'NumEpisodes', 'CreateTime', \"Index\"])\n",
    ")"
   ]
  },
  {
   "cell_type": "code",
   "execution_count": null,
   "metadata": {
    "execution": {
     "iopub.execute_input": "2024-12-27T02:05:06.504148Z",
     "iopub.status.busy": "2024-12-27T02:05:06.503732Z",
     "iopub.status.idle": "2024-12-27T02:05:06.512166Z",
     "shell.execute_reply": "2024-12-27T02:05:06.510678Z",
     "shell.execute_reply.started": "2024-12-27T02:05:06.504121Z"
    },
    "trusted": true
   },
   "outputs": [],
   "source": [
    "target_agents_df"
   ]
  },
  {
   "cell_type": "code",
   "execution_count": null,
   "metadata": {
    "execution": {
     "iopub.execute_input": "2024-12-27T02:05:06.513775Z",
     "iopub.status.busy": "2024-12-27T02:05:06.513472Z",
     "iopub.status.idle": "2024-12-27T02:05:19.839572Z",
     "shell.execute_reply": "2024-12-27T02:05:19.838201Z",
     "shell.execute_reply.started": "2024-12-27T02:05:06.513738Z"
    },
    "trusted": true
   },
   "outputs": [],
   "source": [
    "team_name_list = []\n",
    "for row in tqdm(target_agents_df.iter_rows(named=True), total=len(target_agents_df)):\n",
    "    ep_id = row['EpisodeId']\n",
    "    team_idx = int(row['Index'])\n",
    "    re = requests.post(GET_URL, json = {\"episodeId\": int(ep_id)})\n",
    "    replay = re.json()\n",
    "    team_name_list.append(replay['info']['TeamNames'][team_idx])"
   ]
  },
  {
   "cell_type": "code",
   "execution_count": null,
   "metadata": {
    "execution": {
     "iopub.execute_input": "2024-12-27T02:05:19.843166Z",
     "iopub.status.busy": "2024-12-27T02:05:19.842862Z",
     "iopub.status.idle": "2024-12-27T02:05:19.853085Z",
     "shell.execute_reply": "2024-12-27T02:05:19.85196Z",
     "shell.execute_reply.started": "2024-12-27T02:05:19.843141Z"
    },
    "trusted": true
   },
   "outputs": [],
   "source": [
    "target_agents_df = (\n",
    "    target_agents_df\n",
    "    .with_columns(pl.Series(team_name_list).alias('TeamName'))\n",
    "    .drop(['EpisodeId', \"Index\"])\n",
    "    .sort('UpdatedScore', descending=True)\n",
    ")"
   ]
  },
  {
   "cell_type": "code",
   "execution_count": null,
   "metadata": {
    "execution": {
     "iopub.execute_input": "2024-12-27T02:05:19.855Z",
     "iopub.status.busy": "2024-12-27T02:05:19.854598Z",
     "iopub.status.idle": "2024-12-27T02:05:19.879107Z",
     "shell.execute_reply": "2024-12-27T02:05:19.877902Z",
     "shell.execute_reply.started": "2024-12-27T02:05:19.854952Z"
    },
    "trusted": true
   },
   "outputs": [],
   "source": [
    "target_agents_df.head(10)"
   ]
  },
  {
   "cell_type": "markdown",
   "metadata": {},
   "source": [
    "## Extract episode information"
   ]
  },
  {
   "cell_type": "code",
   "execution_count": null,
   "metadata": {
    "execution": {
     "iopub.execute_input": "2024-12-27T02:05:19.880726Z",
     "iopub.status.busy": "2024-12-27T02:05:19.880335Z",
     "iopub.status.idle": "2024-12-27T02:05:19.907608Z",
     "shell.execute_reply": "2024-12-27T02:05:19.906424Z",
     "shell.execute_reply.started": "2024-12-27T02:05:19.880689Z"
    },
    "trusted": true
   },
   "outputs": [],
   "source": [
    "TARGET_SUBMISSION_IDS = [41862933, 41863713]\n",
    "target_episodes_df = agents_df.filter(pl.col(\"SubmissionId\").is_in(TARGET_SUBMISSION_IDS))\n",
    "target_episodes_df.write_csv(\"episodes.csv\")"
   ]
  },
  {
   "cell_type": "code",
   "execution_count": null,
   "metadata": {
    "execution": {
     "iopub.execute_input": "2024-12-27T02:05:19.909267Z",
     "iopub.status.busy": "2024-12-27T02:05:19.908879Z",
     "iopub.status.idle": "2024-12-27T02:05:19.917584Z",
     "shell.execute_reply": "2024-12-27T02:05:19.916544Z",
     "shell.execute_reply.started": "2024-12-27T02:05:19.909238Z"
    },
    "trusted": true
   },
   "outputs": [],
   "source": [
    "def create_info_json(epid:int) -> dict:\n",
    "    create_seconds = int(episodes_df.filter(pl.col('EpisodeId') == epid)['CreateTime'].item() / 1e9)\n",
    "    end_seconds = int(episodes_df.filter(pl.col('EpisodeId') == epid)['CreateTime'].item() / 1e9)\n",
    "\n",
    "    agents_df_filtered = agents_df.filter(pl.col('EpisodeId') == epid).sort('Index')\n",
    "\n",
    "    agents = []\n",
    "    for row in agents_df_filtered.iter_rows(named=True):\n",
    "        agent = {\n",
    "            \"id\": int(row[\"Id\"]),\n",
    "            \"state\": int(row[\"State\"]),\n",
    "            \"submissionId\": int(row['SubmissionId']),\n",
    "            \"reward\": float(row['Reward']),\n",
    "            \"index\": int(row['Index']),\n",
    "            \"initialScore\": float(row['InitialScore']),\n",
    "            \"initialConfidence\": float(row['InitialConfidence']),\n",
    "            \"updatedScore\": float(row['UpdatedScore']),\n",
    "            \"updatedConfidence\": float(row['UpdatedConfidence']),\n",
    "            \"teamId\": int(99999)\n",
    "        }\n",
    "        agents.append(agent)\n",
    "\n",
    "    info = {\n",
    "        \"id\": int(epid),\n",
    "        \"competitionId\": COMPETITION_ID,\n",
    "        \"createTime\": {\n",
    "            \"seconds\": create_seconds\n",
    "        },\n",
    "        \"endTime\": {\n",
    "            \"seconds\": end_seconds\n",
    "        },\n",
    "        \"agents\": agents\n",
    "    }\n",
    "\n",
    "    return info"
   ]
  },
  {
   "cell_type": "code",
   "execution_count": null,
   "metadata": {
    "execution": {
     "iopub.execute_input": "2024-12-27T02:05:19.918958Z",
     "iopub.status.busy": "2024-12-27T02:05:19.918579Z",
     "iopub.status.idle": "2024-12-27T02:05:19.939526Z",
     "shell.execute_reply": "2024-12-27T02:05:19.938106Z",
     "shell.execute_reply.started": "2024-12-27T02:05:19.918923Z"
    },
    "trusted": true
   },
   "outputs": [],
   "source": [
    "def saveEpisode(epid:int, sub_id:int) -> None:\n",
    "    # request\n",
    "    re = requests.post(GET_URL, json = {\"episodeId\": int(epid)})\n",
    "        \n",
    "    # save replay\n",
    "    replay = re.json()\n",
    "    with open(OUTPUT_DIR / f'{sub_id}_{epid}.json', 'w') as f:\n",
    "        json.dump(replay, f)"
   ]
  },
  {
   "cell_type": "code",
   "execution_count": null,
   "metadata": {
    "execution": {
     "iopub.execute_input": "2024-12-27T02:05:19.941034Z",
     "iopub.status.busy": "2024-12-27T02:05:19.94063Z",
     "iopub.status.idle": "2024-12-27T02:05:56.90887Z",
     "shell.execute_reply": "2024-12-27T02:05:56.907433Z",
     "shell.execute_reply.started": "2024-12-27T02:05:19.941001Z"
    },
    "trusted": true
   },
   "outputs": [],
   "source": [
    "start_time = datetime.datetime.now()\n",
    "episode_count = 0\n",
    "for _sub_id, df in target_episodes_df.group_by('SubmissionId'):\n",
    "    sub_id = _sub_id[0]\n",
    "    ep_ids = df['EpisodeId'].unique()\n",
    "    for epid in ep_ids:\n",
    "        saveEpisode(epid, sub_id); \n",
    "        episode_count+=1\n",
    "        try:\n",
    "            size = os.path.getsize(OUTPUT_DIR / f'{sub_id}_{epid}.json') / 1e6\n",
    "            print(str(episode_count) + f': saved episode #{epid}')\n",
    "        except:\n",
    "            print(f'  file {sub_id}_{epid}.json did not seem to save')\n",
    "\n",
    "        # process 1 episode/sec\n",
    "        spend_seconds = (datetime.datetime.now() - start_time).seconds\n",
    "        if episode_count > spend_seconds:\n",
    "            time.sleep(episode_count - spend_seconds)\n",
    "            \n",
    "        if episode_count > EPISODE_LIMIT_SIZE:\n",
    "            break \n",
    "        \n",
    "    print(f'Episodes saved: {episode_count}')"
   ]
  },
  {
   "cell_type": "code",
   "execution_count": null,
   "metadata": {
    "trusted": true
   },
   "outputs": [],
   "source": []
  }
 ],
 "metadata": {
  "kaggle": {
   "accelerator": "none",
   "dataSources": [
    {
     "databundleVersionId": 10395677,
     "sourceId": 86411,
     "sourceType": "competition"
    },
    {
     "datasetId": 9,
     "sourceId": 10337149,
     "sourceType": "datasetVersion"
    }
   ],
   "dockerImageVersionId": 30822,
   "isGpuEnabled": false,
   "isInternetEnabled": true,
   "language": "python",
   "sourceType": "notebook"
  },
  "kernelspec": {
   "display_name": "Python 3",
   "language": "python",
   "name": "python3"
  },
  "language_info": {
   "codemirror_mode": {
    "name": "ipython",
    "version": 3
   },
   "file_extension": ".py",
   "mimetype": "text/x-python",
   "name": "python",
   "nbconvert_exporter": "python",
   "pygments_lexer": "ipython3",
   "version": "3.11.11"
  }
 },
 "nbformat": 4,
 "nbformat_minor": 4
}
