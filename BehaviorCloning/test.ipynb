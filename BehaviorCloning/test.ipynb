{
 "cells": [
  {
   "cell_type": "code",
   "execution_count": null,
   "metadata": {},
   "outputs": [],
   "source": [
    "import os\n",
    "from datetime import datetime\n",
    "from tqdm import tqdm"
   ]
  },
  {
   "cell_type": "code",
   "execution_count": null,
   "metadata": {},
   "outputs": [],
   "source": [
    "# ログディレクトリの作成\n",
    "log_dir = f'dataset/test/{datetime.now().strftime(\"%Y%m%d_%H%M%S\")}/'\n",
    "os.makedirs(log_dir, exist_ok=True)\n",
    "\n",
    "# エピソードを100回実行して保存\n",
    "for i in tqdm(range(100), desc=\"Running Episodes\", unit=\"episode\"):\n",
    "    try:\n",
    "        path = os.path.join(log_dir, f'episode_{i}.json')  # ログファイルのパス\n",
    "        ret_code = os.system(f'luxai-s3 test_agent.py test_adversal.py --output={path}')  # コマンドの実行\n",
    "        \n",
    "        # 実行結果の確認\n",
    "        if ret_code != 0:\n",
    "            tqdm.write(f'[ERROR] episode_{i} failed with return code {ret_code}.')\n",
    "            break  # エラー時に停止（必要に応じて削除）\n",
    "    except Exception as e:\n",
    "        tqdm.write(f'[EXCEPTION] episode_{i} raised an exception: {e}')\n",
    "        break  # 例外発生時に停止（必要に応じて削除）\n"
   ]
  },
  {
   "cell_type": "code",
   "execution_count": 43,
   "metadata": {},
   "outputs": [],
   "source": [
    "import json\n",
    "import numpy as np"
   ]
  },
  {
   "cell_type": "code",
   "execution_count": 40,
   "metadata": {},
   "outputs": [
    {
     "data": {
      "text/plain": [
       "dict_keys(['observations', 'actions', 'metadata', 'params'])"
      ]
     },
     "execution_count": 40,
     "metadata": {},
     "output_type": "execute_result"
    }
   ],
   "source": [
    "file_path = 'dataset/test/20250115_020417/episode_0.json'\n",
    "with open(file_path, 'r', encoding='utf-8') as f:\n",
    "    data = json.load(f)\n",
    "\n",
    "data.keys()"
   ]
  },
  {
   "cell_type": "code",
   "execution_count": 47,
   "metadata": {},
   "outputs": [
    {
     "name": "stdout",
     "output_type": "stream",
     "text": [
      "win\n"
     ]
    }
   ],
   "source": [
    "if (np.array(data['observations'][202]['team_wins']) - np.array(data['observations'][101]['team_wins']))[0] == 0:\n",
    "    print('win')\n",
    "else:\n",
    "    print('lose')"
   ]
  },
  {
   "cell_type": "code",
   "execution_count": null,
   "metadata": {},
   "outputs": [],
   "source": []
  }
 ],
 "metadata": {
  "kernelspec": {
   "display_name": "lux-s3",
   "language": "python",
   "name": "python3"
  },
  "language_info": {
   "codemirror_mode": {
    "name": "ipython",
    "version": 3
   },
   "file_extension": ".py",
   "mimetype": "text/x-python",
   "name": "python",
   "nbconvert_exporter": "python",
   "pygments_lexer": "ipython3",
   "version": "3.11.11"
  }
 },
 "nbformat": 4,
 "nbformat_minor": 2
}
