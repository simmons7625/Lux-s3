{
 "cells": [
  {
   "cell_type": "code",
   "execution_count": null,
   "metadata": {},
   "outputs": [],
   "source": [
    "import json\n",
    "from IPython.core.display import HTML\n",
    "import numpy as np\n",
    "from tqdm import tqdm"
   ]
  },
  {
   "cell_type": "code",
   "execution_count": null,
   "metadata": {},
   "outputs": [],
   "source": [
    "!luxai-s3 test_agent.py test_agent.py --output='test.html'"
   ]
  },
  {
   "cell_type": "code",
   "execution_count": null,
   "metadata": {},
   "outputs": [],
   "source": [
    "for i in tqdm(range(100)):\n",
    "    path = f'test_log/test_{i}.json'\n",
    "    !luxai-s3 test_agent.py test_adversal.py --output=$path\n",
    "clear_output()"
   ]
  },
  {
   "cell_type": "code",
   "execution_count": null,
   "metadata": {},
   "outputs": [],
   "source": [
    "total_ep_wins = 0\n",
    "total_match_wins = 0\n",
    "for i in range(100):\n",
    "    path = f'test_log/test_{i}.json' \n",
    "    with open(path) as f:\n",
    "        data = json.load(f)\n",
    "        total_match_wins += np.array(data['observations'][505]['team_wins'][0])\n",
    "        if np.array(data['observations'][505]['team_wins']).argmax() == 0:\n",
    "            total_ep_wins += 1\n",
    "\n",
    "print(f'Win rate: {total_ep_wins/100}')\n",
    "print(f'Match win rate: {total_match_wins/500}')"
   ]
  }
 ],
 "metadata": {
  "kernelspec": {
   "display_name": "lux-s3",
   "language": "python",
   "name": "python3"
  },
  "language_info": {
   "codemirror_mode": {
    "name": "ipython",
    "version": 3
   },
   "file_extension": ".py",
   "mimetype": "text/x-python",
   "name": "python",
   "nbconvert_exporter": "python",
   "pygments_lexer": "ipython3",
   "version": "3.11.11"
  }
 },
 "nbformat": 4,
 "nbformat_minor": 2
}
