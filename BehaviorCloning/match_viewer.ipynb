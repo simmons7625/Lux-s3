{
 "cells": [
  {
   "cell_type": "code",
   "execution_count": 14,
   "metadata": {},
   "outputs": [
    {
     "name": "stderr",
     "output_type": "stream",
     "text": [
      "/tmp/ipykernel_340899/1956521098.py:2: DeprecationWarning: Importing clear_output from IPython.core.display is deprecated since IPython 7.14, please import from IPython.display\n",
      "  from IPython.core.display import HTML, clear_output\n"
     ]
    }
   ],
   "source": [
    "import json\n",
    "from IPython.core.display import HTML, clear_output\n",
    "import numpy as np\n",
    "from tqdm import tqdm"
   ]
  },
  {
   "cell_type": "code",
   "execution_count": 17,
   "metadata": {},
   "outputs": [
    {
     "name": "stderr",
     "output_type": "stream",
     "text": [
      "100%|██████████| 10/10 [02:00<00:00, 12.08s/it]\n"
     ]
    }
   ],
   "source": [
    "for i in tqdm(range(10)):\n",
    "    path = f'test_log/test_{i}.html'\n",
    "    !luxai-s3 test_agent.py test_adversal.py --output=$path\n",
    "    clear_output()"
   ]
  },
  {
   "cell_type": "code",
   "execution_count": 16,
   "metadata": {},
   "outputs": [
    {
     "name": "stdout",
     "output_type": "stream",
     "text": [
      "Win rate: 0.52\n",
      "Match win rate: 0.522\n"
     ]
    }
   ],
   "source": [
    "total_ep_wins = 0\n",
    "total_match_wins = 0\n",
    "for i in range(100):\n",
    "    path = f'test_log/test_{i}.json' \n",
    "    with open(path) as f:\n",
    "        data = json.load(f)\n",
    "        total_match_wins += np.array(data['observations'][505]['team_wins'][0])\n",
    "        if np.array(data['observations'][505]['team_wins']).argmax() == 0:\n",
    "            total_ep_wins += 1\n",
    "\n",
    "print(f'Win rate: {total_ep_wins/100}')\n",
    "print(f'Match win rate: {total_match_wins/500}')"
   ]
  }
 ],
 "metadata": {
  "kernelspec": {
   "display_name": "lux-s3",
   "language": "python",
   "name": "python3"
  },
  "language_info": {
   "codemirror_mode": {
    "name": "ipython",
    "version": 3
   },
   "file_extension": ".py",
   "mimetype": "text/x-python",
   "name": "python",
   "nbconvert_exporter": "python",
   "pygments_lexer": "ipython3",
   "version": "3.11.11"
  }
 },
 "nbformat": 4,
 "nbformat_minor": 2
}
