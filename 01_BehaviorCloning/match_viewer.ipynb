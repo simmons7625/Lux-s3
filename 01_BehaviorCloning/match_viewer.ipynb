{
 "cells": [
  {
   "cell_type": "code",
   "execution_count": 1,
   "metadata": {},
   "outputs": [
    {
     "name": "stderr",
     "output_type": "stream",
     "text": [
      "/tmp/ipykernel_2337720/1103771482.py:3: DeprecationWarning: Importing clear_output from IPython.core.display is deprecated since IPython 7.14, please import from IPython.display\n",
      "  from IPython.core.display import HTML, clear_output\n"
     ]
    }
   ],
   "source": [
    "import os\n",
    "import json\n",
    "from IPython.core.display import HTML, clear_output\n",
    "import numpy as np\n",
    "from tqdm import tqdm"
   ]
  },
  {
   "cell_type": "code",
   "execution_count": null,
   "metadata": {},
   "outputs": [],
   "source": [
    "os.makedirs('test_log', exist_ok=True)"
   ]
  },
  {
   "cell_type": "code",
   "execution_count": null,
   "metadata": {},
   "outputs": [],
   "source": [
    "for i in tqdm(range(100)):\n",
    "    path = f'test_log/test_{i}.json'\n",
    "    !luxai-s3 test_agent.py test_adversal.py --output=$path\n",
    "    clear_output()"
   ]
  },
  {
   "cell_type": "code",
   "execution_count": null,
   "metadata": {},
   "outputs": [],
   "source": [
    "total_ep_wins = 0\n",
    "total_match_wins = 0\n",
    "for i in range(100):\n",
    "    path = f'test_log/test_{i}.json' \n",
    "    with open(path) as f:\n",
    "        data = json.load(f)\n",
    "        total_match_wins += np.array(data['observations'][505]['team_wins'][0])\n",
    "        if np.array(data['observations'][505]['team_wins']).argmax() == 0:\n",
    "            total_ep_wins += 1\n",
    "\n",
    "print(f'Win rate: {total_ep_wins/100}')\n",
    "print(f'Match win rate: {total_match_wins/500}')"
   ]
  },
  {
   "cell_type": "code",
   "execution_count": 2,
   "metadata": {},
   "outputs": [
    {
     "name": "stderr",
     "output_type": "stream",
     "text": [
      "  0%|          | 0/10 [00:00<?, ?it/s]"
     ]
    },
    {
     "name": "stdout",
     "output_type": "stream",
     "text": [
      "player_1, base_agent.py: cannot parse action ''\n",
      "player_0, base_agent.py: cannot parse action ''\n",
      "Traceback (most recent call last):\n",
      "  File \"/home/naohiro/anaconda3/envs/lux-s3/lib/python3.11/site-packages/jax/_src/pjit.py\", line 616, in _infer_params_impl\n",
      "    avals.append(shaped_abstractify(a))\n",
      "                 ^^^^^^^^^^^^^^^^^^^^^\n",
      "  File \"/home/naohiro/anaconda3/envs/lux-s3/lib/python3.11/site-packages/jax/_src/api_util.py\", line 606, in shaped_abstractify\n",
      "    return handler(x) if handler is not None else _shaped_abstractify_slow(x)\n",
      "           ^^^^^^^^^^\n",
      "  File \"/home/naohiro/anaconda3/envs/lux-s3/lib/python3.11/site-packages/jax/_src/api_util.py\", line 617, in _numpy_array_abstractify\n",
      "    dtypes.check_valid_dtype(dtype)\n",
      "  File \"/home/naohiro/anaconda3/envs/lux-s3/lib/python3.11/site-packages/jax/_src/dtypes.py\", line 739, in check_valid_dtype\n",
      "    raise TypeError(f\"Dtype {dtype} is not a valid JAX array \"\n",
      "TypeError: Dtype object is not a valid JAX array type. Only arrays of numeric types are supported by JAX.\n",
      "\n",
      "The above exception was the direct cause of the following exception:\n",
      "\n",
      "Traceback (most recent call last):\n",
      "  File \"/home/naohiro/anaconda3/envs/lux-s3/bin/luxai-s3\", line 8, in <module>\n",
      "    sys.exit(main())\n",
      "             ^^^^^^\n",
      "  File \"/home/naohiro/anaconda3/envs/lux-s3/lib/python3.11/site-packages/luxai_runner/cli.py\", line 129, in main\n",
      "    results = asyncio.run(eps.run())\n",
      "              ^^^^^^^^^^^^^^^^^^^^^^\n",
      "  File \"/home/naohiro/anaconda3/envs/lux-s3/lib/python3.11/asyncio/runners.py\", line 190, in run\n",
      "    return runner.run(main)\n",
      "           ^^^^^^^^^^^^^^^^\n",
      "  File \"/home/naohiro/anaconda3/envs/lux-s3/lib/python3.11/asyncio/runners.py\", line 118, in run\n",
      "    return self._loop.run_until_complete(task)\n",
      "           ^^^^^^^^^^^^^^^^^^^^^^^^^^^^^^^^^^^\n",
      "  File \"/home/naohiro/anaconda3/envs/lux-s3/lib/python3.11/asyncio/base_events.py\", line 654, in run_until_complete\n",
      "    return future.result()\n",
      "           ^^^^^^^^^^^^^^^\n",
      "  File \"/home/naohiro/anaconda3/envs/lux-s3/lib/python3.11/site-packages/luxai_runner/episode.py\", line 174, in run\n",
      "    new_state_obs, rewards, terminations, truncations, infos = self.env.step(\n",
      "                                                               ^^^^^^^^^^^^^^\n",
      "  File \"/home/naohiro/anaconda3/envs/lux-s3/lib/python3.11/site-packages/luxai_s3/wrappers.py\", line 137, in step\n",
      "    obs, reward, terminated, truncated, info = self.env.step(action)\n",
      "                                               ^^^^^^^^^^^^^^^^^^^^^\n",
      "  File \"/home/naohiro/anaconda3/envs/lux-s3/lib/python3.11/site-packages/luxai_s3/wrappers.py\", line 87, in step\n",
      "    obs, self.state, reward, terminated, truncated, info = self.jax_env.step(\n",
      "                                                           ^^^^^^^^^^^^^^^^^^\n",
      "TypeError: Error interpreting argument to <function LuxAIS3Env.step at 0x75ec60ddccc0> as an abstract array. The problematic value is of type <class 'numpy.ndarray'> and was passed to the function at path action['player_0'].\n",
      "This typically means that a jit-wrapped function was called with a non-array argument, and this argument was not marked as static using the static_argnums or static_argnames parameters of jax.jit.\n",
      "--------------------\n",
      "For simplicity, JAX has removed its internal frames from the traceback of the following exception. Set JAX_TRACEBACK_FILTERING=off to include these.\n"
     ]
    },
    {
     "name": "stderr",
     "output_type": "stream",
     "text": [
      " 10%|█         | 1/10 [00:05<00:45,  5.04s/it]"
     ]
    },
    {
     "name": "stdout",
     "output_type": "stream",
     "text": [
      "player_1, base_agent.py: cannot parse action ''\n",
      "player_0, base_agent.py: cannot parse action ''\n",
      "Traceback (most recent call last):\n",
      "  File \"/home/naohiro/anaconda3/envs/lux-s3/lib/python3.11/site-packages/jax/_src/pjit.py\", line 616, in _infer_params_impl\n",
      "    avals.append(shaped_abstractify(a))\n",
      "                 ^^^^^^^^^^^^^^^^^^^^^\n",
      "  File \"/home/naohiro/anaconda3/envs/lux-s3/lib/python3.11/site-packages/jax/_src/api_util.py\", line 606, in shaped_abstractify\n",
      "    return handler(x) if handler is not None else _shaped_abstractify_slow(x)\n",
      "           ^^^^^^^^^^\n",
      "  File \"/home/naohiro/anaconda3/envs/lux-s3/lib/python3.11/site-packages/jax/_src/api_util.py\", line 617, in _numpy_array_abstractify\n",
      "    dtypes.check_valid_dtype(dtype)\n",
      "  File \"/home/naohiro/anaconda3/envs/lux-s3/lib/python3.11/site-packages/jax/_src/dtypes.py\", line 739, in check_valid_dtype\n",
      "    raise TypeError(f\"Dtype {dtype} is not a valid JAX array \"\n",
      "TypeError: Dtype object is not a valid JAX array type. Only arrays of numeric types are supported by JAX.\n",
      "\n",
      "The above exception was the direct cause of the following exception:\n",
      "\n",
      "Traceback (most recent call last):\n",
      "  File \"/home/naohiro/anaconda3/envs/lux-s3/bin/luxai-s3\", line 8, in <module>\n",
      "    sys.exit(main())\n",
      "             ^^^^^^\n",
      "  File \"/home/naohiro/anaconda3/envs/lux-s3/lib/python3.11/site-packages/luxai_runner/cli.py\", line 129, in main\n",
      "    results = asyncio.run(eps.run())\n",
      "              ^^^^^^^^^^^^^^^^^^^^^^\n",
      "  File \"/home/naohiro/anaconda3/envs/lux-s3/lib/python3.11/asyncio/runners.py\", line 190, in run\n",
      "    return runner.run(main)\n",
      "           ^^^^^^^^^^^^^^^^\n",
      "  File \"/home/naohiro/anaconda3/envs/lux-s3/lib/python3.11/asyncio/runners.py\", line 118, in run\n",
      "    return self._loop.run_until_complete(task)\n",
      "           ^^^^^^^^^^^^^^^^^^^^^^^^^^^^^^^^^^^\n",
      "  File \"/home/naohiro/anaconda3/envs/lux-s3/lib/python3.11/asyncio/base_events.py\", line 654, in run_until_complete\n",
      "    return future.result()\n",
      "           ^^^^^^^^^^^^^^^\n",
      "  File \"/home/naohiro/anaconda3/envs/lux-s3/lib/python3.11/site-packages/luxai_runner/episode.py\", line 174, in run\n",
      "    new_state_obs, rewards, terminations, truncations, infos = self.env.step(\n",
      "                                                               ^^^^^^^^^^^^^^\n",
      "  File \"/home/naohiro/anaconda3/envs/lux-s3/lib/python3.11/site-packages/luxai_s3/wrappers.py\", line 137, in step\n",
      "    obs, reward, terminated, truncated, info = self.env.step(action)\n",
      "                                               ^^^^^^^^^^^^^^^^^^^^^\n",
      "  File \"/home/naohiro/anaconda3/envs/lux-s3/lib/python3.11/site-packages/luxai_s3/wrappers.py\", line 87, in step\n",
      "    obs, self.state, reward, terminated, truncated, info = self.jax_env.step(\n",
      "                                                           ^^^^^^^^^^^^^^^^^^\n",
      "TypeError: Error interpreting argument to <function LuxAIS3Env.step at 0x701a04bd8cc0> as an abstract array. The problematic value is of type <class 'numpy.ndarray'> and was passed to the function at path action['player_0'].\n",
      "This typically means that a jit-wrapped function was called with a non-array argument, and this argument was not marked as static using the static_argnums or static_argnames parameters of jax.jit.\n",
      "--------------------\n",
      "For simplicity, JAX has removed its internal frames from the traceback of the following exception. Set JAX_TRACEBACK_FILTERING=off to include these.\n"
     ]
    },
    {
     "name": "stderr",
     "output_type": "stream",
     "text": [
      " 20%|██        | 2/10 [00:10<00:39,  5.00s/it]"
     ]
    },
    {
     "name": "stdout",
     "output_type": "stream",
     "text": [
      "player_1, base_agent.py: cannot parse action ''\n",
      "player_0, base_agent.py: cannot parse action ''\n",
      "Traceback (most recent call last):\n",
      "  File \"/home/naohiro/anaconda3/envs/lux-s3/lib/python3.11/site-packages/jax/_src/pjit.py\", line 616, in _infer_params_impl\n",
      "    avals.append(shaped_abstractify(a))\n",
      "                 ^^^^^^^^^^^^^^^^^^^^^\n",
      "  File \"/home/naohiro/anaconda3/envs/lux-s3/lib/python3.11/site-packages/jax/_src/api_util.py\", line 606, in shaped_abstractify\n",
      "    return handler(x) if handler is not None else _shaped_abstractify_slow(x)\n",
      "           ^^^^^^^^^^\n",
      "  File \"/home/naohiro/anaconda3/envs/lux-s3/lib/python3.11/site-packages/jax/_src/api_util.py\", line 617, in _numpy_array_abstractify\n",
      "    dtypes.check_valid_dtype(dtype)\n",
      "  File \"/home/naohiro/anaconda3/envs/lux-s3/lib/python3.11/site-packages/jax/_src/dtypes.py\", line 739, in check_valid_dtype\n",
      "    raise TypeError(f\"Dtype {dtype} is not a valid JAX array \"\n",
      "TypeError: Dtype object is not a valid JAX array type. Only arrays of numeric types are supported by JAX.\n",
      "\n",
      "The above exception was the direct cause of the following exception:\n",
      "\n",
      "Traceback (most recent call last):\n",
      "  File \"/home/naohiro/anaconda3/envs/lux-s3/bin/luxai-s3\", line 8, in <module>\n",
      "    sys.exit(main())\n",
      "             ^^^^^^\n",
      "  File \"/home/naohiro/anaconda3/envs/lux-s3/lib/python3.11/site-packages/luxai_runner/cli.py\", line 129, in main\n",
      "    results = asyncio.run(eps.run())\n",
      "              ^^^^^^^^^^^^^^^^^^^^^^\n",
      "  File \"/home/naohiro/anaconda3/envs/lux-s3/lib/python3.11/asyncio/runners.py\", line 190, in run\n",
      "    return runner.run(main)\n",
      "           ^^^^^^^^^^^^^^^^\n",
      "  File \"/home/naohiro/anaconda3/envs/lux-s3/lib/python3.11/asyncio/runners.py\", line 118, in run\n",
      "    return self._loop.run_until_complete(task)\n",
      "           ^^^^^^^^^^^^^^^^^^^^^^^^^^^^^^^^^^^\n",
      "  File \"/home/naohiro/anaconda3/envs/lux-s3/lib/python3.11/asyncio/base_events.py\", line 654, in run_until_complete\n",
      "    return future.result()\n",
      "           ^^^^^^^^^^^^^^^\n",
      "  File \"/home/naohiro/anaconda3/envs/lux-s3/lib/python3.11/site-packages/luxai_runner/episode.py\", line 174, in run\n",
      "    new_state_obs, rewards, terminations, truncations, infos = self.env.step(\n",
      "                                                               ^^^^^^^^^^^^^^\n",
      "  File \"/home/naohiro/anaconda3/envs/lux-s3/lib/python3.11/site-packages/luxai_s3/wrappers.py\", line 137, in step\n",
      "    obs, reward, terminated, truncated, info = self.env.step(action)\n",
      "                                               ^^^^^^^^^^^^^^^^^^^^^\n",
      "  File \"/home/naohiro/anaconda3/envs/lux-s3/lib/python3.11/site-packages/luxai_s3/wrappers.py\", line 87, in step\n",
      "    obs, self.state, reward, terminated, truncated, info = self.jax_env.step(\n",
      "                                                           ^^^^^^^^^^^^^^^^^^\n",
      "TypeError: Error interpreting argument to <function LuxAIS3Env.step at 0x7ee3aebeccc0> as an abstract array. The problematic value is of type <class 'numpy.ndarray'> and was passed to the function at path action['player_0'].\n",
      "This typically means that a jit-wrapped function was called with a non-array argument, and this argument was not marked as static using the static_argnums or static_argnames parameters of jax.jit.\n",
      "--------------------\n",
      "For simplicity, JAX has removed its internal frames from the traceback of the following exception. Set JAX_TRACEBACK_FILTERING=off to include these.\n"
     ]
    },
    {
     "name": "stderr",
     "output_type": "stream",
     "text": [
      " 30%|███       | 3/10 [00:15<00:35,  5.00s/it]"
     ]
    },
    {
     "name": "stdout",
     "output_type": "stream",
     "text": [
      "^C\n"
     ]
    },
    {
     "name": "stderr",
     "output_type": "stream",
     "text": [
      " 40%|████      | 4/10 [00:18<00:25,  4.28s/it]"
     ]
    },
    {
     "name": "stdout",
     "output_type": "stream",
     "text": [
      "player_1, base_agent.py: cannot parse action ''\n",
      "player_0, base_agent.py: cannot parse action ''\n",
      "Traceback (most recent call last):\n",
      "  File \"/home/naohiro/anaconda3/envs/lux-s3/lib/python3.11/site-packages/jax/_src/pjit.py\", line 616, in _infer_params_impl\n",
      "    avals.append(shaped_abstractify(a))\n",
      "                 ^^^^^^^^^^^^^^^^^^^^^\n",
      "  File \"/home/naohiro/anaconda3/envs/lux-s3/lib/python3.11/site-packages/jax/_src/api_util.py\", line 606, in shaped_abstractify\n",
      "    return handler(x) if handler is not None else _shaped_abstractify_slow(x)\n",
      "           ^^^^^^^^^^\n",
      "  File \"/home/naohiro/anaconda3/envs/lux-s3/lib/python3.11/site-packages/jax/_src/api_util.py\", line 617, in _numpy_array_abstractify\n",
      "    dtypes.check_valid_dtype(dtype)\n",
      "  File \"/home/naohiro/anaconda3/envs/lux-s3/lib/python3.11/site-packages/jax/_src/dtypes.py\", line 739, in check_valid_dtype\n",
      "    raise TypeError(f\"Dtype {dtype} is not a valid JAX array \"\n",
      "TypeError: Dtype object is not a valid JAX array type. Only arrays of numeric types are supported by JAX.\n",
      "\n",
      "The above exception was the direct cause of the following exception:\n",
      "\n",
      "Traceback (most recent call last):\n",
      "  File \"/home/naohiro/anaconda3/envs/lux-s3/bin/luxai-s3\", line 8, in <module>\n",
      "    sys.exit(main())\n",
      "             ^^^^^^\n",
      "  File \"/home/naohiro/anaconda3/envs/lux-s3/lib/python3.11/site-packages/luxai_runner/cli.py\", line 129, in main\n",
      "    results = asyncio.run(eps.run())\n",
      "              ^^^^^^^^^^^^^^^^^^^^^^\n",
      "  File \"/home/naohiro/anaconda3/envs/lux-s3/lib/python3.11/asyncio/runners.py\", line 190, in run\n",
      "    return runner.run(main)\n",
      "           ^^^^^^^^^^^^^^^^\n",
      "  File \"/home/naohiro/anaconda3/envs/lux-s3/lib/python3.11/asyncio/runners.py\", line 118, in run\n",
      "    return self._loop.run_until_complete(task)\n",
      "           ^^^^^^^^^^^^^^^^^^^^^^^^^^^^^^^^^^^\n",
      "  File \"/home/naohiro/anaconda3/envs/lux-s3/lib/python3.11/asyncio/base_events.py\", line 654, in run_until_complete\n",
      "    return future.result()\n",
      "           ^^^^^^^^^^^^^^^\n",
      "  File \"/home/naohiro/anaconda3/envs/lux-s3/lib/python3.11/site-packages/luxai_runner/episode.py\", line 174, in run\n",
      "    new_state_obs, rewards, terminations, truncations, infos = self.env.step(\n",
      "                                                               ^^^^^^^^^^^^^^\n",
      "  File \"/home/naohiro/anaconda3/envs/lux-s3/lib/python3.11/site-packages/luxai_s3/wrappers.py\", line 137, in step\n",
      "    obs, reward, terminated, truncated, info = self.env.step(action)\n",
      "                                               ^^^^^^^^^^^^^^^^^^^^^\n",
      "  File \"/home/naohiro/anaconda3/envs/lux-s3/lib/python3.11/site-packages/luxai_s3/wrappers.py\", line 87, in step\n",
      "    obs, self.state, reward, terminated, truncated, info = self.jax_env.step(\n",
      "                                                           ^^^^^^^^^^^^^^^^^^\n",
      "TypeError: Error interpreting argument to <function LuxAIS3Env.step at 0x7c58b55d4cc0> as an abstract array. The problematic value is of type <class 'numpy.ndarray'> and was passed to the function at path action['player_0'].\n",
      "This typically means that a jit-wrapped function was called with a non-array argument, and this argument was not marked as static using the static_argnums or static_argnames parameters of jax.jit.\n",
      "--------------------\n",
      "For simplicity, JAX has removed its internal frames from the traceback of the following exception. Set JAX_TRACEBACK_FILTERING=off to include these.\n"
     ]
    },
    {
     "name": "stderr",
     "output_type": "stream",
     "text": [
      " 50%|█████     | 5/10 [00:23<00:22,  4.52s/it]"
     ]
    },
    {
     "name": "stdout",
     "output_type": "stream",
     "text": [
      "player_0, base_agent.py: cannot parse action ''\n",
      "player_1, base_agent.py: cannot parse action ''\n",
      "Traceback (most recent call last):\n",
      "  File \"/home/naohiro/anaconda3/envs/lux-s3/lib/python3.11/site-packages/jax/_src/pjit.py\", line 616, in _infer_params_impl\n",
      "    avals.append(shaped_abstractify(a))\n",
      "                 ^^^^^^^^^^^^^^^^^^^^^\n",
      "  File \"/home/naohiro/anaconda3/envs/lux-s3/lib/python3.11/site-packages/jax/_src/api_util.py\", line 606, in shaped_abstractify\n",
      "    return handler(x) if handler is not None else _shaped_abstractify_slow(x)\n",
      "           ^^^^^^^^^^\n",
      "  File \"/home/naohiro/anaconda3/envs/lux-s3/lib/python3.11/site-packages/jax/_src/api_util.py\", line 617, in _numpy_array_abstractify\n",
      "    dtypes.check_valid_dtype(dtype)\n",
      "  File \"/home/naohiro/anaconda3/envs/lux-s3/lib/python3.11/site-packages/jax/_src/dtypes.py\", line 739, in check_valid_dtype\n",
      "    raise TypeError(f\"Dtype {dtype} is not a valid JAX array \"\n",
      "TypeError: Dtype object is not a valid JAX array type. Only arrays of numeric types are supported by JAX.\n",
      "\n",
      "The above exception was the direct cause of the following exception:\n",
      "\n",
      "Traceback (most recent call last):\n",
      "  File \"/home/naohiro/anaconda3/envs/lux-s3/bin/luxai-s3\", line 8, in <module>\n",
      "    sys.exit(main())\n",
      "             ^^^^^^\n",
      "  File \"/home/naohiro/anaconda3/envs/lux-s3/lib/python3.11/site-packages/luxai_runner/cli.py\", line 129, in main\n",
      "    results = asyncio.run(eps.run())\n",
      "              ^^^^^^^^^^^^^^^^^^^^^^\n",
      "  File \"/home/naohiro/anaconda3/envs/lux-s3/lib/python3.11/asyncio/runners.py\", line 190, in run\n",
      "    return runner.run(main)\n",
      "           ^^^^^^^^^^^^^^^^\n",
      "  File \"/home/naohiro/anaconda3/envs/lux-s3/lib/python3.11/asyncio/runners.py\", line 118, in run\n",
      "    return self._loop.run_until_complete(task)\n",
      "           ^^^^^^^^^^^^^^^^^^^^^^^^^^^^^^^^^^^\n",
      "  File \"/home/naohiro/anaconda3/envs/lux-s3/lib/python3.11/asyncio/base_events.py\", line 654, in run_until_complete\n",
      "    return future.result()\n",
      "           ^^^^^^^^^^^^^^^\n",
      "  File \"/home/naohiro/anaconda3/envs/lux-s3/lib/python3.11/site-packages/luxai_runner/episode.py\", line 174, in run\n",
      "    new_state_obs, rewards, terminations, truncations, infos = self.env.step(\n",
      "                                                               ^^^^^^^^^^^^^^\n",
      "  File \"/home/naohiro/anaconda3/envs/lux-s3/lib/python3.11/site-packages/luxai_s3/wrappers.py\", line 137, in step\n",
      "    obs, reward, terminated, truncated, info = self.env.step(action)\n",
      "                                               ^^^^^^^^^^^^^^^^^^^^^\n",
      "  File \"/home/naohiro/anaconda3/envs/lux-s3/lib/python3.11/site-packages/luxai_s3/wrappers.py\", line 87, in step\n",
      "    obs, self.state, reward, terminated, truncated, info = self.jax_env.step(\n",
      "                                                           ^^^^^^^^^^^^^^^^^^\n",
      "TypeError: Error interpreting argument to <function LuxAIS3Env.step at 0x72b6573d8cc0> as an abstract array. The problematic value is of type <class 'numpy.ndarray'> and was passed to the function at path action['player_0'].\n",
      "This typically means that a jit-wrapped function was called with a non-array argument, and this argument was not marked as static using the static_argnums or static_argnames parameters of jax.jit.\n",
      "--------------------\n",
      "For simplicity, JAX has removed its internal frames from the traceback of the following exception. Set JAX_TRACEBACK_FILTERING=off to include these.\n"
     ]
    },
    {
     "name": "stderr",
     "output_type": "stream",
     "text": [
      " 60%|██████    | 6/10 [00:28<00:18,  4.70s/it]"
     ]
    }
   ],
   "source": [
    "for i in tqdm(range(10)):\n",
    "    path = f'test_log/test_{i}.html'\n",
    "    !luxai-s3 base_agent.py base_agent.py --output=$path"
   ]
  },
  {
   "cell_type": "code",
   "execution_count": null,
   "metadata": {},
   "outputs": [],
   "source": []
  }
 ],
 "metadata": {
  "kernelspec": {
   "display_name": "lux-s3",
   "language": "python",
   "name": "python3"
  },
  "language_info": {
   "codemirror_mode": {
    "name": "ipython",
    "version": 3
   },
   "file_extension": ".py",
   "mimetype": "text/x-python",
   "name": "python",
   "nbconvert_exporter": "python",
   "pygments_lexer": "ipython3",
   "version": "3.11.11"
  }
 },
 "nbformat": 4,
 "nbformat_minor": 2
}
