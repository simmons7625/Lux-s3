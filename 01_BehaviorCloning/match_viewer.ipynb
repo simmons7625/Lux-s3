{
 "cells": [
  {
   "cell_type": "code",
   "execution_count": 16,
   "metadata": {},
   "outputs": [
    {
     "name": "stderr",
     "output_type": "stream",
     "text": [
      "/tmp/ipykernel_1643635/1103771482.py:3: DeprecationWarning: Importing clear_output from IPython.core.display is deprecated since IPython 7.14, please import from IPython.display\n",
      "  from IPython.core.display import HTML, clear_output\n"
     ]
    }
   ],
   "source": [
    "import os\n",
    "import json\n",
    "from IPython.core.display import HTML, clear_output\n",
    "import numpy as np\n",
    "from tqdm import tqdm"
   ]
  },
  {
   "cell_type": "code",
   "execution_count": 17,
   "metadata": {},
   "outputs": [],
   "source": [
    "os.makedirs('test_log', exist_ok=True)"
   ]
  },
  {
   "cell_type": "code",
   "execution_count": 18,
   "metadata": {},
   "outputs": [
    {
     "name": "stderr",
     "output_type": "stream",
     "text": [
      "100%|██████████| 100/100 [21:04<00:00, 12.64s/it]\n"
     ]
    }
   ],
   "source": [
    "for i in tqdm(range(100)):\n",
    "    path = f'test_log/test_{i}.json'\n",
    "    !luxai-s3 test_agent.py test_adversal.py --output=$path\n",
    "    clear_output()"
   ]
  },
  {
   "cell_type": "code",
   "execution_count": 19,
   "metadata": {},
   "outputs": [
    {
     "name": "stdout",
     "output_type": "stream",
     "text": [
      "Win rate: 0.77\n",
      "Match win rate: 0.688\n"
     ]
    }
   ],
   "source": [
    "total_ep_wins = 0\n",
    "total_match_wins = 0\n",
    "for i in range(100):\n",
    "    path = f'test_log/test_{i}.json' \n",
    "    with open(path) as f:\n",
    "        data = json.load(f)\n",
    "        total_match_wins += np.array(data['observations'][505]['team_wins'][0])\n",
    "        if np.array(data['observations'][505]['team_wins']).argmax() == 0:\n",
    "            total_ep_wins += 1\n",
    "\n",
    "print(f'Win rate: {total_ep_wins/100}')\n",
    "print(f'Match win rate: {total_match_wins/500}')"
   ]
  },
  {
   "cell_type": "code",
   "execution_count": 20,
   "metadata": {},
   "outputs": [
    {
     "name": "stderr",
     "output_type": "stream",
     "text": [
      "  0%|          | 0/10 [00:00<?, ?it/s]"
     ]
    },
    {
     "name": "stdout",
     "output_type": "stream",
     "text": [
      "Time Elapsed:  10.903461933135986\n",
      "Rewards:  {'player_0': array(3, dtype=int32), 'player_1': array(2, dtype=int32)}\n"
     ]
    },
    {
     "name": "stderr",
     "output_type": "stream",
     "text": [
      " 10%|█         | 1/10 [00:12<01:50, 12.23s/it]"
     ]
    },
    {
     "name": "stdout",
     "output_type": "stream",
     "text": [
      "Time Elapsed:  11.08845043182373\n",
      "Rewards:  {'player_0': array(5, dtype=int32), 'player_1': array(0, dtype=int32)}\n"
     ]
    },
    {
     "name": "stderr",
     "output_type": "stream",
     "text": [
      " 20%|██        | 2/10 [00:24<01:38, 12.34s/it]"
     ]
    },
    {
     "name": "stdout",
     "output_type": "stream",
     "text": [
      "Time Elapsed:  10.893827199935913\n",
      "Rewards:  {'player_0': array(3, dtype=int32), 'player_1': array(2, dtype=int32)}\n"
     ]
    },
    {
     "name": "stderr",
     "output_type": "stream",
     "text": [
      " 30%|███       | 3/10 [00:36<01:26, 12.30s/it]"
     ]
    },
    {
     "name": "stdout",
     "output_type": "stream",
     "text": [
      "Time Elapsed:  10.8921217918396\n",
      "Rewards:  {'player_0': array(4, dtype=int32), 'player_1': array(1, dtype=int32)}\n"
     ]
    },
    {
     "name": "stderr",
     "output_type": "stream",
     "text": [
      " 40%|████      | 4/10 [00:49<01:13, 12.27s/it]"
     ]
    },
    {
     "name": "stdout",
     "output_type": "stream",
     "text": [
      "Time Elapsed:  11.153189420700073\n",
      "Rewards:  {'player_0': array(0, dtype=int32), 'player_1': array(5, dtype=int32)}\n"
     ]
    },
    {
     "name": "stderr",
     "output_type": "stream",
     "text": [
      " 50%|█████     | 5/10 [01:01<01:01, 12.34s/it]"
     ]
    },
    {
     "name": "stdout",
     "output_type": "stream",
     "text": [
      "Time Elapsed:  10.998945951461792\n",
      "Rewards:  {'player_0': array(1, dtype=int32), 'player_1': array(4, dtype=int32)}\n"
     ]
    },
    {
     "name": "stderr",
     "output_type": "stream",
     "text": [
      " 60%|██████    | 6/10 [01:13<00:49, 12.34s/it]"
     ]
    },
    {
     "name": "stdout",
     "output_type": "stream",
     "text": [
      "Time Elapsed:  11.005987644195557\n",
      "Rewards:  {'player_0': array(4, dtype=int32), 'player_1': array(1, dtype=int32)}\n"
     ]
    },
    {
     "name": "stderr",
     "output_type": "stream",
     "text": [
      " 70%|███████   | 7/10 [01:26<00:37, 12.34s/it]"
     ]
    },
    {
     "name": "stdout",
     "output_type": "stream",
     "text": [
      "Time Elapsed:  11.196040868759155\n",
      "Rewards:  {'player_0': array(5, dtype=int32), 'player_1': array(0, dtype=int32)}\n"
     ]
    },
    {
     "name": "stderr",
     "output_type": "stream",
     "text": [
      " 80%|████████  | 8/10 [01:38<00:24, 12.40s/it]"
     ]
    },
    {
     "name": "stdout",
     "output_type": "stream",
     "text": [
      "Time Elapsed:  10.6027352809906\n",
      "Rewards:  {'player_0': array(4, dtype=int32), 'player_1': array(1, dtype=int32)}\n"
     ]
    },
    {
     "name": "stderr",
     "output_type": "stream",
     "text": [
      " 90%|█████████ | 9/10 [01:50<00:12, 12.24s/it]"
     ]
    },
    {
     "name": "stdout",
     "output_type": "stream",
     "text": [
      "Time Elapsed:  10.957533597946167\n",
      "Rewards:  {'player_0': array(5, dtype=int32), 'player_1': array(0, dtype=int32)}\n"
     ]
    },
    {
     "name": "stderr",
     "output_type": "stream",
     "text": [
      "100%|██████████| 10/10 [02:02<00:00, 12.30s/it]\n"
     ]
    }
   ],
   "source": [
    "for i in tqdm(range(10)):\n",
    "    path = f'test_log/test_{i}.html'\n",
    "    !luxai-s3 test_agent.py test_adversal.py --output=$path"
   ]
  }
 ],
 "metadata": {
  "kernelspec": {
   "display_name": "lux-s3",
   "language": "python",
   "name": "python3"
  },
  "language_info": {
   "codemirror_mode": {
    "name": "ipython",
    "version": 3
   },
   "file_extension": ".py",
   "mimetype": "text/x-python",
   "name": "python",
   "nbconvert_exporter": "python",
   "pygments_lexer": "ipython3",
   "version": "3.11.11"
  }
 },
 "nbformat": 4,
 "nbformat_minor": 2
}
